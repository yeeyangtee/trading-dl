{
 "cells": [
  {
   "cell_type": "code",
   "execution_count": 1,
   "id": "df23403e",
   "metadata": {},
   "outputs": [],
   "source": [
    "import numpy as np\n",
    "import pandas as pd\n",
    "from sklearn import preprocessing\n",
    "import talib\n",
    "import matplotlib.pyplot as plt"
   ]
  },
  {
   "cell_type": "code",
   "execution_count": 2,
   "id": "b3ceaf87",
   "metadata": {},
   "outputs": [],
   "source": [
    "df = pd.read_csv('kline_1610026260_1618666439.csv').drop(columns=['Unnamed: 0','open_time','close_time','ignore'])"
   ]
  },
  {
   "cell_type": "code",
   "execution_count": 3,
   "id": "68b364d3",
   "metadata": {},
   "outputs": [
    {
     "data": {
      "text/html": [
       "<div>\n",
       "<style scoped>\n",
       "    .dataframe tbody tr th:only-of-type {\n",
       "        vertical-align: middle;\n",
       "    }\n",
       "\n",
       "    .dataframe tbody tr th {\n",
       "        vertical-align: top;\n",
       "    }\n",
       "\n",
       "    .dataframe thead th {\n",
       "        text-align: right;\n",
       "    }\n",
       "</style>\n",
       "<table border=\"1\" class=\"dataframe\">\n",
       "  <thead>\n",
       "    <tr style=\"text-align: right;\">\n",
       "      <th></th>\n",
       "      <th>open</th>\n",
       "      <th>high</th>\n",
       "      <th>low</th>\n",
       "      <th>close</th>\n",
       "      <th>volume</th>\n",
       "      <th>quote_asset_volume</th>\n",
       "      <th>num_trades</th>\n",
       "      <th>buy_volume</th>\n",
       "      <th>quote_volume</th>\n",
       "    </tr>\n",
       "  </thead>\n",
       "  <tbody>\n",
       "    <tr>\n",
       "      <th>0</th>\n",
       "      <td>38282.81</td>\n",
       "      <td>38282.81</td>\n",
       "      <td>38201.01</td>\n",
       "      <td>38259.73</td>\n",
       "      <td>108.611866</td>\n",
       "      <td>4.152802e+06</td>\n",
       "      <td>2463.0</td>\n",
       "      <td>32.689829</td>\n",
       "      <td>1.249860e+06</td>\n",
       "    </tr>\n",
       "    <tr>\n",
       "      <th>1</th>\n",
       "      <td>38259.72</td>\n",
       "      <td>38320.17</td>\n",
       "      <td>38252.77</td>\n",
       "      <td>38304.32</td>\n",
       "      <td>77.440389</td>\n",
       "      <td>2.964820e+06</td>\n",
       "      <td>1606.0</td>\n",
       "      <td>31.735588</td>\n",
       "      <td>1.215102e+06</td>\n",
       "    </tr>\n",
       "    <tr>\n",
       "      <th>2</th>\n",
       "      <td>38304.32</td>\n",
       "      <td>38312.90</td>\n",
       "      <td>38238.35</td>\n",
       "      <td>38243.82</td>\n",
       "      <td>65.671076</td>\n",
       "      <td>2.513683e+06</td>\n",
       "      <td>1439.0</td>\n",
       "      <td>24.090259</td>\n",
       "      <td>9.220926e+05</td>\n",
       "    </tr>\n",
       "    <tr>\n",
       "      <th>3</th>\n",
       "      <td>38243.82</td>\n",
       "      <td>38279.68</td>\n",
       "      <td>38230.00</td>\n",
       "      <td>38279.12</td>\n",
       "      <td>59.950645</td>\n",
       "      <td>2.293327e+06</td>\n",
       "      <td>1105.0</td>\n",
       "      <td>26.408491</td>\n",
       "      <td>1.010132e+06</td>\n",
       "    </tr>\n",
       "    <tr>\n",
       "      <th>4</th>\n",
       "      <td>38279.12</td>\n",
       "      <td>38300.00</td>\n",
       "      <td>38250.02</td>\n",
       "      <td>38261.70</td>\n",
       "      <td>61.547511</td>\n",
       "      <td>2.355739e+06</td>\n",
       "      <td>1353.0</td>\n",
       "      <td>27.666768</td>\n",
       "      <td>1.058974e+06</td>\n",
       "    </tr>\n",
       "    <tr>\n",
       "      <th>...</th>\n",
       "      <td>...</td>\n",
       "      <td>...</td>\n",
       "      <td>...</td>\n",
       "      <td>...</td>\n",
       "      <td>...</td>\n",
       "      <td>...</td>\n",
       "      <td>...</td>\n",
       "      <td>...</td>\n",
       "      <td>...</td>\n",
       "    </tr>\n",
       "    <tr>\n",
       "      <th>143829</th>\n",
       "      <td>60750.36</td>\n",
       "      <td>60780.25</td>\n",
       "      <td>60691.10</td>\n",
       "      <td>60780.25</td>\n",
       "      <td>45.479245</td>\n",
       "      <td>2.761782e+06</td>\n",
       "      <td>2246.0</td>\n",
       "      <td>16.272949</td>\n",
       "      <td>9.883043e+05</td>\n",
       "    </tr>\n",
       "    <tr>\n",
       "      <th>143830</th>\n",
       "      <td>60780.24</td>\n",
       "      <td>60884.14</td>\n",
       "      <td>60773.05</td>\n",
       "      <td>60884.13</td>\n",
       "      <td>70.615901</td>\n",
       "      <td>4.295369e+06</td>\n",
       "      <td>2788.0</td>\n",
       "      <td>42.158266</td>\n",
       "      <td>2.564283e+06</td>\n",
       "    </tr>\n",
       "    <tr>\n",
       "      <th>143831</th>\n",
       "      <td>60884.13</td>\n",
       "      <td>60952.10</td>\n",
       "      <td>60884.13</td>\n",
       "      <td>60950.13</td>\n",
       "      <td>31.335621</td>\n",
       "      <td>1.909096e+06</td>\n",
       "      <td>2165.0</td>\n",
       "      <td>18.695376</td>\n",
       "      <td>1.138948e+06</td>\n",
       "    </tr>\n",
       "    <tr>\n",
       "      <th>143832</th>\n",
       "      <td>60950.12</td>\n",
       "      <td>60988.85</td>\n",
       "      <td>60903.97</td>\n",
       "      <td>60986.02</td>\n",
       "      <td>54.816537</td>\n",
       "      <td>3.341146e+06</td>\n",
       "      <td>2265.0</td>\n",
       "      <td>29.318344</td>\n",
       "      <td>1.786948e+06</td>\n",
       "    </tr>\n",
       "    <tr>\n",
       "      <th>143833</th>\n",
       "      <td>60986.01</td>\n",
       "      <td>61064.60</td>\n",
       "      <td>60969.21</td>\n",
       "      <td>61042.03</td>\n",
       "      <td>69.802342</td>\n",
       "      <td>4.258659e+06</td>\n",
       "      <td>2580.0</td>\n",
       "      <td>56.687248</td>\n",
       "      <td>3.458578e+06</td>\n",
       "    </tr>\n",
       "  </tbody>\n",
       "</table>\n",
       "<p>143834 rows × 9 columns</p>\n",
       "</div>"
      ],
      "text/plain": [
       "            open      high       low     close      volume  \\\n",
       "0       38282.81  38282.81  38201.01  38259.73  108.611866   \n",
       "1       38259.72  38320.17  38252.77  38304.32   77.440389   \n",
       "2       38304.32  38312.90  38238.35  38243.82   65.671076   \n",
       "3       38243.82  38279.68  38230.00  38279.12   59.950645   \n",
       "4       38279.12  38300.00  38250.02  38261.70   61.547511   \n",
       "...          ...       ...       ...       ...         ...   \n",
       "143829  60750.36  60780.25  60691.10  60780.25   45.479245   \n",
       "143830  60780.24  60884.14  60773.05  60884.13   70.615901   \n",
       "143831  60884.13  60952.10  60884.13  60950.13   31.335621   \n",
       "143832  60950.12  60988.85  60903.97  60986.02   54.816537   \n",
       "143833  60986.01  61064.60  60969.21  61042.03   69.802342   \n",
       "\n",
       "        quote_asset_volume  num_trades  buy_volume  quote_volume  \n",
       "0             4.152802e+06      2463.0   32.689829  1.249860e+06  \n",
       "1             2.964820e+06      1606.0   31.735588  1.215102e+06  \n",
       "2             2.513683e+06      1439.0   24.090259  9.220926e+05  \n",
       "3             2.293327e+06      1105.0   26.408491  1.010132e+06  \n",
       "4             2.355739e+06      1353.0   27.666768  1.058974e+06  \n",
       "...                    ...         ...         ...           ...  \n",
       "143829        2.761782e+06      2246.0   16.272949  9.883043e+05  \n",
       "143830        4.295369e+06      2788.0   42.158266  2.564283e+06  \n",
       "143831        1.909096e+06      2165.0   18.695376  1.138948e+06  \n",
       "143832        3.341146e+06      2265.0   29.318344  1.786948e+06  \n",
       "143833        4.258659e+06      2580.0   56.687248  3.458578e+06  \n",
       "\n",
       "[143834 rows x 9 columns]"
      ]
     },
     "execution_count": 3,
     "metadata": {},
     "output_type": "execute_result"
    }
   ],
   "source": [
    "df"
   ]
  },
  {
   "cell_type": "code",
   "execution_count": 4,
   "id": "db0214fb",
   "metadata": {},
   "outputs": [],
   "source": [
    "close = df['close'].copy()\n",
    "volume = df['volume'].copy()"
   ]
  },
  {
   "cell_type": "code",
   "execution_count": 5,
   "id": "7cdb317f",
   "metadata": {},
   "outputs": [],
   "source": [
    "# Setup TALIB indicators\n",
    "TIMEPERIODS = [5, 8, 14, 30]\n",
    "indicator_dict = {}\n",
    "for timeperiod in TIMEPERIODS:\n",
    "    indicator_dict[f'upperband_{timeperiod}'],indicator_dict[f'middleband_{timeperiod}'],indicator_dict[f'lowerband_{timeperiod}'] = talib.BBANDS(close,timeperiod=timeperiod)\n",
    "    indicator_dict[f'dema_{timeperiod}'] = talib.DEMA(close,timeperiod)\n",
    "    indicator_dict[f'ema_{timeperiod}'] = talib.EMA(close,timeperiod)\n",
    "    indicator_dict[f'ma_{timeperiod}'] = talib.MA(close,timeperiod)\n",
    "    \n",
    "    # momentums\n",
    "    indicator_dict[f'momentum_{timeperiod}'] = talib.MOM(close, timeperiod)\n",
    "    indicator_dict[f'rsi_{timeperiod}'] = talib.RSI(close, timeperiod)\n",
    "    \n",
    "indicator_dict['ppo'] = talib.PPO(close)\n",
    "indicator_dict['macd'], indicator_dict['macdsignal'], indicator_dict['macdhist'] = talib.MACD(close)\n",
    "indicator_dict['obv'] = talib.OBV(close,volume)\n",
    "\n"
   ]
  },
  {
   "cell_type": "code",
   "execution_count": null,
   "id": "83c24443",
   "metadata": {},
   "outputs": [],
   "source": [
    "indicator_df = pd.DataFrame(indicator_dict)\n",
    "indicator_df"
   ]
  },
  {
   "cell_type": "code",
   "execution_count": 7,
   "id": "e744423a",
   "metadata": {},
   "outputs": [
    {
     "name": "stdout",
     "output_type": "stream",
     "text": [
      "(143834, 37)\n"
     ]
    }
   ],
   "source": [
    "print(indicator_df.shape)"
   ]
  },
  {
   "cell_type": "markdown",
   "id": "5252ac7f",
   "metadata": {},
   "source": [
    "### setup targets\n",
    "use close prices of T+1 to T+5 as target?  \n",
    "can consider using high/lows.  \n",
    "Add these as extra columns  \n",
    "model can predict multivariate or just a mean. not sure."
   ]
  },
  {
   "cell_type": "code",
   "execution_count": 8,
   "id": "012a1fa0",
   "metadata": {},
   "outputs": [],
   "source": [
    "final_df = df.join(indicator_df)"
   ]
  },
  {
   "cell_type": "code",
   "execution_count": 14,
   "id": "82c22800",
   "metadata": {},
   "outputs": [],
   "source": [
    "for i in range(1,6):\n",
    "    final_df[f'close_t{i}'] = df['close'].shift(-i)\n",
    "\n",
    "final_df.dropna(inplace=True)\n"
   ]
  },
  {
   "cell_type": "code",
   "execution_count": 17,
   "id": "39a6a2f8",
   "metadata": {},
   "outputs": [],
   "source": [
    "processed_np = np.array(final_df)"
   ]
  },
  {
   "cell_type": "code",
   "execution_count": 21,
   "id": "bc140949",
   "metadata": {},
   "outputs": [],
   "source": [
    "np.save('processed.npy',processed_np)"
   ]
  },
  {
   "cell_type": "code",
   "execution_count": null,
   "id": "c0e08424",
   "metadata": {},
   "outputs": [],
   "source": []
  }
 ],
 "metadata": {
  "kernelspec": {
   "display_name": "Python [conda env:binance-bot]",
   "language": "python",
   "name": "conda-env-binance-bot-py"
  },
  "language_info": {
   "codemirror_mode": {
    "name": "ipython",
    "version": 3
   },
   "file_extension": ".py",
   "mimetype": "text/x-python",
   "name": "python",
   "nbconvert_exporter": "python",
   "pygments_lexer": "ipython3",
   "version": "3.8.8"
  }
 },
 "nbformat": 4,
 "nbformat_minor": 5
}
