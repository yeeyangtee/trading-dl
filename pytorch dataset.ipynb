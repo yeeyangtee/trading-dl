{
 "cells": [
  {
   "cell_type": "code",
   "execution_count": null,
   "id": "d5ac6bda",
   "metadata": {},
   "outputs": [],
   "source": [
    "import torch\n",
    "from torch.utils.data import Dataset\n",
    "\n",
    "class TimeDataset(Dataset):\n",
    "    '''Dataset that assumes a time based relationship. each datapoint is correlated to previous few entries\n",
    "    When getting the data, we return the previous memory_size entries.\n",
    "    This also means the first memory_size datapoints will be ignored.\n",
    "    '''\n",
    "    def __init__(self, data, memory_size = 50, test=False):\n",
    "        self.data = nparr \n",
    "        self.test = test\n",
    "        self.memory_size = memory_size\n",
    "\n",
    "    def __getitem__(self, index):\n",
    "        # Same as ArrDataset, just that we grab the input data from index to index+memory_size. \n",
    "        end_idx = index + self.memory_size\n",
    "        input = torch.from_numpy(self.data[index:end_idx, :3]) # input should have shape (memory_size, 30)\n",
    "        output = torch.from_numpy(self.data[end_idx-1, 3].reshape(1,)) # output has shape (1, 1)\n",
    "\n",
    "        assert (input.dtype == torch.float32) # ensure datatypes.\n",
    "        assert (output.dtype == torch.float32) # ensure datatypes.\n",
    "\n",
    "        if self.test: # If this is testing dataset, then return y_mean\n",
    "            return input, output, self.y_mean\n",
    "\n",
    "        else: return input, output\n",
    "\n",
    "    def __len__(self):\n",
    "        return self.data.shape[0] - self.memory_size # Reduced dataset size."
   ]
  }
 ],
 "metadata": {
  "kernelspec": {
   "display_name": "Python [conda env:binance-bot]",
   "language": "python",
   "name": "conda-env-binance-bot-py"
  },
  "language_info": {
   "codemirror_mode": {
    "name": "ipython",
    "version": 3
   },
   "file_extension": ".py",
   "mimetype": "text/x-python",
   "name": "python",
   "nbconvert_exporter": "python",
   "pygments_lexer": "ipython3",
   "version": "3.8.8"
  }
 },
 "nbformat": 4,
 "nbformat_minor": 5
}
